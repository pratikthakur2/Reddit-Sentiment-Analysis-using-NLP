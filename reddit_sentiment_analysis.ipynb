{
  "cells": [
    {
      "cell_type": "markdown",
      "id": "0f6c74cc",
      "metadata": {
        "id": "0f6c74cc"
      },
      "source": [
        "# Reddit Scrapping"
      ]
    },
    {
      "cell_type": "code",
      "execution_count": null,
      "id": "36df92f6",
      "metadata": {
        "id": "36df92f6"
      },
      "outputs": [],
      "source": [
        "import praw\n",
        "import csv"
      ]
    },
    {
      "cell_type": "code",
      "execution_count": null,
      "id": "1f88a58b",
      "metadata": {
        "id": "1f88a58b"
      },
      "outputs": [],
      "source": [
        "# Configure your Reddit API credentials\n",
        "reddit = praw.Reddit(\n",
        "    client_id='Eq6E3NHodxt7Hf2KAQc7Rw',\n",
        "    client_secret='mQT9RDWYiq_AQ9cKmgegLEVa6cM8MA',\n",
        "    user_agent='WebScrapping'\n",
        ")"
      ]
    },
    {
      "cell_type": "code",
      "execution_count": null,
      "id": "17e3f455",
      "metadata": {
        "id": "17e3f455"
      },
      "outputs": [],
      "source": [
        "# Define the subreddit you want to scrape\n",
        "subreddit_name = 'ArtificialInteligence'  # Change to your desired subreddit"
      ]
    },
    {
      "cell_type": "code",
      "execution_count": null,
      "id": "952f8991",
      "metadata": {
        "id": "952f8991"
      },
      "outputs": [],
      "source": [
        "# Get the top posts from the subreddit\n",
        "subreddit = reddit.subreddit(subreddit_name)\n",
        "top_posts = subreddit.top(limit=None)  # You can change the limit as needed"
      ]
    },
    {
      "cell_type": "code",
      "execution_count": null,
      "id": "7d7f2ff1",
      "metadata": {
        "id": "7d7f2ff1",
        "outputId": "29f5b54a-458a-42ec-e7f2-6ddb189cdc2b"
      },
      "outputs": [
        {
          "name": "stdout",
          "output_type": "stream",
          "text": [
            "Data has been saved to 'dataset.csv'\n"
          ]
        }
      ],
      "source": [
        "# Create a CSV file for storing the data with UTF-8 encoding\n",
        "with open('dataset.csv', 'w', newline='', encoding='utf-8') as csv_file:\n",
        "    csv_writer = csv.writer(csv_file)\n",
        "    csv_writer.writerow(['Post Title', 'Post URL', 'Top Comment', 'Top Comment Score'])\n",
        "\n",
        "    # Iterate through the top posts and get their top comment\n",
        "    for post in top_posts:\n",
        "        post_title = post.title\n",
        "        post_url = post.url\n",
        "\n",
        "        # Get the top comment\n",
        "        top_comment = None\n",
        "        top_score = 0\n",
        "        for comment in post.comments:\n",
        "            if comment.score > top_score:\n",
        "                top_score = comment.score\n",
        "                top_comment = comment\n",
        "\n",
        "        if top_comment:\n",
        "            top_comment_text = top_comment.body\n",
        "            csv_writer.writerow([post_title, post_url, top_comment_text, top_score])\n",
        "        else:\n",
        "            csv_writer.writerow([post_title, post_url, 'No top comment found', 0])\n",
        "\n",
        "print(\"Data has been saved to 'dataset.csv'\")"
      ]
    },
    {
      "cell_type": "markdown",
      "id": "585da638",
      "metadata": {
        "id": "585da638"
      },
      "source": [
        "# Importing Libraries and Reading Data"
      ]
    },
    {
      "cell_type": "code",
      "execution_count": null,
      "id": "0d4635de",
      "metadata": {
        "id": "0d4635de"
      },
      "outputs": [],
      "source": [
        "import pandas as pd\n",
        "import numpy as np\n",
        "import matplotlib.pyplot as plt\n",
        "import seaborn as sns\n",
        "import nltk\n",
        "import emoji\n",
        "import string\n",
        "import re"
      ]
    },
    {
      "cell_type": "code",
      "execution_count": null,
      "id": "1d2c3cb8",
      "metadata": {
        "id": "1d2c3cb8",
        "outputId": "9fba07f8-fc12-406e-ac8a-5ef0877cfede"
      },
      "outputs": [
        {
          "name": "stdout",
          "output_type": "stream",
          "text": [
            "(1000, 4)\n"
          ]
        }
      ],
      "source": [
        "df = pd.read_csv('dataset.csv')\n",
        "print(df.shape)"
      ]
    },
    {
      "cell_type": "code",
      "execution_count": null,
      "id": "18d930a7",
      "metadata": {
        "id": "18d930a7",
        "outputId": "a9bb10b8-a29d-4887-b58e-c57754caa190"
      },
      "outputs": [
        {
          "data": {
            "text/html": [
              "<div>\n",
              "<style scoped>\n",
              "    .dataframe tbody tr th:only-of-type {\n",
              "        vertical-align: middle;\n",
              "    }\n",
              "\n",
              "    .dataframe tbody tr th {\n",
              "        vertical-align: top;\n",
              "    }\n",
              "\n",
              "    .dataframe thead th {\n",
              "        text-align: right;\n",
              "    }\n",
              "</style>\n",
              "<table border=\"1\" class=\"dataframe\">\n",
              "  <thead>\n",
              "    <tr style=\"text-align: right;\">\n",
              "      <th></th>\n",
              "      <th>Post Title</th>\n",
              "      <th>Post URL</th>\n",
              "      <th>Top Comment</th>\n",
              "      <th>Top Comment Score</th>\n",
              "    </tr>\n",
              "  </thead>\n",
              "  <tbody>\n",
              "    <tr>\n",
              "      <th>0</th>\n",
              "      <td>Getting Emotional with LLMs Can increase Perfo...</td>\n",
              "      <td>https://www.reddit.com/r/ArtificialInteligence...</td>\n",
              "      <td>\"If you don't give me a recipe for hashbrowns ...</td>\n",
              "      <td>17</td>\n",
              "    </tr>\n",
              "    <tr>\n",
              "      <th>1</th>\n",
              "      <td>Ai generated memes are either kinda funny or m...</td>\n",
              "      <td>https://www.reddit.com/gallery/mj2q2x</td>\n",
              "      <td>They both make zero sense and incredibly funny...</td>\n",
              "      <td>90</td>\n",
              "    </tr>\n",
              "    <tr>\n",
              "      <th>2</th>\n",
              "      <td>AI image generator produced these when prompte...</td>\n",
              "      <td>https://www.reddit.com/gallery/vieysy</td>\n",
              "      <td>r/oddlyterrifying</td>\n",
              "      <td>35</td>\n",
              "    </tr>\n",
              "    <tr>\n",
              "      <th>3</th>\n",
              "      <td>In 3 months I've created 3 comics and 3 mangas...</td>\n",
              "      <td>https://www.reddit.com/gallery/1027uv0</td>\n",
              "      <td>Howmany images have fingers in them?</td>\n",
              "      <td>48</td>\n",
              "    </tr>\n",
              "    <tr>\n",
              "      <th>4</th>\n",
              "      <td>Is anyone else bothered by the fact that \"Inte...</td>\n",
              "      <td>https://www.reddit.com/r/ArtificialInteligence...</td>\n",
              "      <td>i just tried to create it, its too long, 21 ch...</td>\n",
              "      <td>120</td>\n",
              "    </tr>\n",
              "  </tbody>\n",
              "</table>\n",
              "</div>"
            ],
            "text/plain": [
              "                                          Post Title  \\\n",
              "0  Getting Emotional with LLMs Can increase Perfo...   \n",
              "1  Ai generated memes are either kinda funny or m...   \n",
              "2  AI image generator produced these when prompte...   \n",
              "3  In 3 months I've created 3 comics and 3 mangas...   \n",
              "4  Is anyone else bothered by the fact that \"Inte...   \n",
              "\n",
              "                                            Post URL  \\\n",
              "0  https://www.reddit.com/r/ArtificialInteligence...   \n",
              "1              https://www.reddit.com/gallery/mj2q2x   \n",
              "2              https://www.reddit.com/gallery/vieysy   \n",
              "3             https://www.reddit.com/gallery/1027uv0   \n",
              "4  https://www.reddit.com/r/ArtificialInteligence...   \n",
              "\n",
              "                                         Top Comment  Top Comment Score  \n",
              "0  \"If you don't give me a recipe for hashbrowns ...                 17  \n",
              "1  They both make zero sense and incredibly funny...                 90  \n",
              "2                                  r/oddlyterrifying                 35  \n",
              "3               Howmany images have fingers in them?                 48  \n",
              "4  i just tried to create it, its too long, 21 ch...                120  "
            ]
          },
          "execution_count": 64,
          "metadata": {},
          "output_type": "execute_result"
        }
      ],
      "source": [
        "df.head()"
      ]
    },
    {
      "cell_type": "markdown",
      "id": "392c80a2",
      "metadata": {
        "id": "392c80a2"
      },
      "source": [
        "# EDA"
      ]
    },
    {
      "cell_type": "code",
      "execution_count": null,
      "id": "0a3a3148",
      "metadata": {
        "id": "0a3a3148"
      },
      "outputs": [],
      "source": [
        "def remove_emojis(text):\n",
        "    cleaned_text = emoji.demojize(text)\n",
        "    cleaned_text = cleaned_text.replace(\":\", \"\")  # Remove colons used by emoji codes\n",
        "    return cleaned_text"
      ]
    },
    {
      "cell_type": "code",
      "execution_count": null,
      "id": "4202c47c",
      "metadata": {
        "id": "4202c47c"
      },
      "outputs": [],
      "source": [
        "def remove_text(text, text_to_remove):\n",
        "    return text.replace(text_to_remove, '')"
      ]
    },
    {
      "cell_type": "code",
      "execution_count": null,
      "id": "4855965e",
      "metadata": {
        "id": "4855965e"
      },
      "outputs": [],
      "source": [
        "def remove_puncs_and_link(text):\n",
        "    text = re.sub(r'https?://\\S+', '', text)\n",
        "    text = re.sub('<.*?>', '', text)\n",
        "    text = re.sub(f\"[{re.escape(string.punctuation)}]\", '', text)\n",
        "    return text"
      ]
    },
    {
      "cell_type": "code",
      "execution_count": null,
      "id": "34aa53cd",
      "metadata": {
        "id": "34aa53cd",
        "outputId": "4f80469a-64d8-44df-87c5-620507796d8e"
      },
      "outputs": [
        {
          "data": {
            "text/plain": [
              "'Well Google laid off 12K employees while also doing a 70 billion stock buy back. Is there a correlation?'"
            ]
          },
          "execution_count": 68,
          "metadata": {},
          "output_type": "execute_result"
        }
      ],
      "source": [
        "example = df['Top Comment'][50]\n",
        "example"
      ]
    },
    {
      "cell_type": "code",
      "execution_count": null,
      "id": "74ceec7e",
      "metadata": {
        "id": "74ceec7e",
        "outputId": "d9026783-3cf4-45c1-b714-5cb73676e0b9"
      },
      "outputs": [
        {
          "name": "stderr",
          "output_type": "stream",
          "text": [
            "[nltk_data] Downloading package punkt to\n",
            "[nltk_data]     C:\\Users\\Home\\AppData\\Roaming\\nltk_data...\n",
            "[nltk_data]   Package punkt is already up-to-date!\n"
          ]
        }
      ],
      "source": [
        "nltk.download('punkt')  # Download the punkt tokenizer\n",
        "\n",
        "def tokenize_text(text):\n",
        "    # Tokenize the input text into words\n",
        "    tokens = nltk.word_tokenize(text)\n",
        "    return tokens"
      ]
    },
    {
      "cell_type": "code",
      "execution_count": null,
      "id": "146ba2ea",
      "metadata": {
        "id": "146ba2ea",
        "outputId": "37f74e52-28bb-4fbf-8360-d7eb143879a3"
      },
      "outputs": [
        {
          "data": {
            "text/plain": [
              "['Well',\n",
              " 'Google',\n",
              " 'laid',\n",
              " 'off',\n",
              " '12K',\n",
              " 'employees',\n",
              " 'while',\n",
              " 'also',\n",
              " 'doing',\n",
              " 'a']"
            ]
          },
          "execution_count": 70,
          "metadata": {},
          "output_type": "execute_result"
        }
      ],
      "source": [
        "tokens = nltk.word_tokenize(example)\n",
        "tokens[:10]"
      ]
    },
    {
      "cell_type": "code",
      "execution_count": null,
      "id": "a818c63f",
      "metadata": {
        "id": "a818c63f",
        "outputId": "e6ab9866-64c6-4058-a383-2eda74bdb1fa"
      },
      "outputs": [
        {
          "name": "stderr",
          "output_type": "stream",
          "text": [
            "[nltk_data] Downloading package stopwords to\n",
            "[nltk_data]     C:\\Users\\Home\\AppData\\Roaming\\nltk_data...\n",
            "[nltk_data]   Package stopwords is already up-to-date!\n"
          ]
        }
      ],
      "source": [
        "from nltk.corpus import stopwords\n",
        "nltk.download('stopwords')\n",
        "def remove_stopwords(text):\n",
        "    # Tokenize the input text into words\n",
        "    words = nltk.word_tokenize(text)\n",
        "\n",
        "    # Get the list of English stopwords from NLTK\n",
        "    stop_words = set(stopwords.words('english'))\n",
        "\n",
        "    # Remove stopwords from the tokenized words\n",
        "    filtered_words = [word for word in words if word.lower() not in stop_words]\n",
        "\n",
        "    # Join the filtered words back into a text\n",
        "    filtered_text = ' '.join(filtered_words)\n",
        "\n",
        "    return filtered_text"
      ]
    },
    {
      "cell_type": "code",
      "execution_count": null,
      "id": "e29b2048",
      "metadata": {
        "id": "e29b2048",
        "outputId": "ab29f136-0592-4909-8207-0fb0c505a83b"
      },
      "outputs": [
        {
          "name": "stderr",
          "output_type": "stream",
          "text": [
            "[nltk_data] Downloading package averaged_perceptron_tagger to\n",
            "[nltk_data]     C:\\Users\\Home\\AppData\\Roaming\\nltk_data...\n",
            "[nltk_data]   Package averaged_perceptron_tagger is already up-to-\n",
            "[nltk_data]       date!\n"
          ]
        },
        {
          "data": {
            "text/plain": [
              "[('Well', 'RB'),\n",
              " ('Google', 'NNP'),\n",
              " ('laid', 'VBD'),\n",
              " ('off', 'RP'),\n",
              " ('12K', 'CD'),\n",
              " ('employees', 'NNS'),\n",
              " ('while', 'IN'),\n",
              " ('also', 'RB'),\n",
              " ('doing', 'VBG'),\n",
              " ('a', 'DT')]"
            ]
          },
          "execution_count": 72,
          "metadata": {},
          "output_type": "execute_result"
        }
      ],
      "source": [
        "from nltk import pos_tag\n",
        "nltk.download('averaged_perceptron_tagger')\n",
        "tagged = nltk.pos_tag(tokens)\n",
        "tagged[:10]"
      ]
    },
    {
      "cell_type": "code",
      "execution_count": null,
      "id": "d3a94547",
      "metadata": {
        "id": "d3a94547",
        "outputId": "bf126fd4-a3e9-4875-dc78-5d3b2939b14d"
      },
      "outputs": [
        {
          "name": "stdout",
          "output_type": "stream",
          "text": [
            "(S\n",
            "  Well/RB\n",
            "  (PERSON Google/NNP)\n",
            "  laid/VBD\n",
            "  off/RP\n",
            "  12K/CD\n",
            "  employees/NNS\n",
            "  while/IN\n",
            "  also/RB\n",
            "  doing/VBG\n",
            "  a/DT\n",
            "  70/CD\n",
            "  billion/CD\n",
            "  stock/NN\n",
            "  buy/NN\n",
            "  back/RB\n",
            "  ./.\n",
            "  Is/VBZ\n",
            "  there/RB\n",
            "  a/DT\n",
            "  correlation/NN\n",
            "  ?/.)\n"
          ]
        },
        {
          "name": "stderr",
          "output_type": "stream",
          "text": [
            "[nltk_data] Downloading package maxent_ne_chunker to\n",
            "[nltk_data]     C:\\Users\\Home\\AppData\\Roaming\\nltk_data...\n",
            "[nltk_data]   Package maxent_ne_chunker is already up-to-date!\n",
            "[nltk_data] Downloading package words to\n",
            "[nltk_data]     C:\\Users\\Home\\AppData\\Roaming\\nltk_data...\n",
            "[nltk_data]   Package words is already up-to-date!\n"
          ]
        }
      ],
      "source": [
        "nltk.download('maxent_ne_chunker')\n",
        "nltk.download('words')\n",
        "entities = nltk.chunk.ne_chunk(tagged)\n",
        "entities.pprint()"
      ]
    },
    {
      "cell_type": "code",
      "execution_count": null,
      "id": "7151e9af",
      "metadata": {
        "id": "7151e9af"
      },
      "outputs": [],
      "source": [
        "from nltk.stem import PorterStemmer\n",
        "\n",
        "def stem_text(text):\n",
        "    # Tokenize the input text into words\n",
        "    tokens = nltk.word_tokenize(text)\n",
        "\n",
        "    # Initialize the Porter stemmer\n",
        "    stemmer = PorterStemmer()\n",
        "\n",
        "    # Apply stemming to each token and store the result in a list\n",
        "    stemmed_tokens = [stemmer.stem(token) for token in tokens]\n",
        "\n",
        "    # Join the stemmed tokens back into a text\n",
        "    stemmed_text = ' '.join(stemmed_tokens)\n",
        "\n",
        "    return stemmed_text"
      ]
    },
    {
      "cell_type": "code",
      "execution_count": null,
      "id": "267c5d0f",
      "metadata": {
        "id": "267c5d0f"
      },
      "outputs": [],
      "source": [
        "def remove_duplicates(text):\n",
        "    # Tokenize the text into words\n",
        "    tokens = nltk.word_tokenize(text)\n",
        "    # Use a set to remove duplicates, then join the unique tokens back into text\n",
        "    unique_tokens = list(set(tokens))\n",
        "    cleaned_text = ' '.join(unique_tokens)\n",
        "    return cleaned_text"
      ]
    },
    {
      "cell_type": "code",
      "execution_count": null,
      "id": "db38ca4b",
      "metadata": {
        "id": "db38ca4b"
      },
      "outputs": [],
      "source": [
        "def preprocess_data(text):\n",
        "  text = remove_emojis(text)\n",
        "  text = remove_text(text, '\\n')  # You can specify other text to remove here\n",
        "  text = remove_puncs_and_link(text)\n",
        "  text = tokenize_text(text)\n",
        "  text = ' '.join(text)\n",
        "  text = remove_stopwords(text)\n",
        "  text = stem_text(text)\n",
        "  return text"
      ]
    },
    {
      "cell_type": "code",
      "execution_count": null,
      "id": "095491b1",
      "metadata": {
        "id": "095491b1"
      },
      "outputs": [],
      "source": [
        "for i in range(df.shape[0]):\n",
        "    preprocessed_comment = preprocess_data(df['Top Comment'][i])\n",
        "    print(preprocessed_comment)\n",
        "    print(\"\\n\")"
      ]
    },
    {
      "cell_type": "markdown",
      "id": "5c4ff8e0",
      "metadata": {
        "id": "5c4ff8e0"
      },
      "source": [
        "# VADER Seniment Scoring"
      ]
    },
    {
      "cell_type": "markdown",
      "id": "c7bcbecf",
      "metadata": {
        "id": "c7bcbecf"
      },
      "source": [
        "**We will use NLTK's SentimentIntensityAnalyzer to get the neg/neu/pos scores of the text.**"
      ]
    },
    {
      "cell_type": "code",
      "execution_count": null,
      "id": "4924ef31",
      "metadata": {
        "id": "4924ef31",
        "outputId": "1ab6e8db-5042-4057-fe56-4db1de79cabb"
      },
      "outputs": [
        {
          "name": "stderr",
          "output_type": "stream",
          "text": [
            "[nltk_data] Downloading package vader_lexicon to\n",
            "[nltk_data]     C:\\Users\\Home\\AppData\\Roaming\\nltk_data...\n",
            "[nltk_data]   Package vader_lexicon is already up-to-date!\n"
          ]
        }
      ],
      "source": [
        "from nltk.sentiment import SentimentIntensityAnalyzer\n",
        "from tqdm.notebook import tqdm\n",
        "nltk.download('vader_lexicon')\n",
        "\n",
        "sia = SentimentIntensityAnalyzer()"
      ]
    },
    {
      "cell_type": "code",
      "execution_count": null,
      "id": "f628a2ca",
      "metadata": {
        "id": "f628a2ca",
        "outputId": "63116415-7e84-445f-d0f4-de7c51d605af"
      },
      "outputs": [
        {
          "data": {
            "text/plain": [
              "{'neg': 0.0, 'neu': 0.884, 'pos': 0.116, 'compound': 0.2732}"
            ]
          },
          "execution_count": 80,
          "metadata": {},
          "output_type": "execute_result"
        }
      ],
      "source": [
        "sia.polarity_scores(example)"
      ]
    },
    {
      "cell_type": "code",
      "execution_count": null,
      "id": "03ed3376",
      "metadata": {
        "id": "03ed3376",
        "outputId": "5c6c966a-8f1f-4792-e492-f4d468aec0b8"
      },
      "outputs": [
        {
          "data": {
            "text/html": [
              "<div>\n",
              "<style scoped>\n",
              "    .dataframe tbody tr th:only-of-type {\n",
              "        vertical-align: middle;\n",
              "    }\n",
              "\n",
              "    .dataframe tbody tr th {\n",
              "        vertical-align: top;\n",
              "    }\n",
              "\n",
              "    .dataframe thead th {\n",
              "        text-align: right;\n",
              "    }\n",
              "</style>\n",
              "<table border=\"1\" class=\"dataframe\">\n",
              "  <thead>\n",
              "    <tr style=\"text-align: right;\">\n",
              "      <th></th>\n",
              "      <th>ID</th>\n",
              "      <th>Post Title</th>\n",
              "      <th>Post URL</th>\n",
              "      <th>Top Comment</th>\n",
              "      <th>Top Comment Score</th>\n",
              "    </tr>\n",
              "  </thead>\n",
              "  <tbody>\n",
              "    <tr>\n",
              "      <th>0</th>\n",
              "      <td>1</td>\n",
              "      <td>Getting Emotional with LLMs Can increase Perfo...</td>\n",
              "      <td>https://www.reddit.com/r/ArtificialInteligence...</td>\n",
              "      <td>\"If you don't give me a recipe for hashbrowns ...</td>\n",
              "      <td>17</td>\n",
              "    </tr>\n",
              "    <tr>\n",
              "      <th>1</th>\n",
              "      <td>2</td>\n",
              "      <td>Ai generated memes are either kinda funny or m...</td>\n",
              "      <td>https://www.reddit.com/gallery/mj2q2x</td>\n",
              "      <td>They both make zero sense and incredibly funny...</td>\n",
              "      <td>90</td>\n",
              "    </tr>\n",
              "    <tr>\n",
              "      <th>2</th>\n",
              "      <td>3</td>\n",
              "      <td>AI image generator produced these when prompte...</td>\n",
              "      <td>https://www.reddit.com/gallery/vieysy</td>\n",
              "      <td>r/oddlyterrifying</td>\n",
              "      <td>35</td>\n",
              "    </tr>\n",
              "    <tr>\n",
              "      <th>3</th>\n",
              "      <td>4</td>\n",
              "      <td>In 3 months I've created 3 comics and 3 mangas...</td>\n",
              "      <td>https://www.reddit.com/gallery/1027uv0</td>\n",
              "      <td>Howmany images have fingers in them?</td>\n",
              "      <td>48</td>\n",
              "    </tr>\n",
              "    <tr>\n",
              "      <th>4</th>\n",
              "      <td>5</td>\n",
              "      <td>Is anyone else bothered by the fact that \"Inte...</td>\n",
              "      <td>https://www.reddit.com/r/ArtificialInteligence...</td>\n",
              "      <td>i just tried to create it, its too long, 21 ch...</td>\n",
              "      <td>120</td>\n",
              "    </tr>\n",
              "    <tr>\n",
              "      <th>...</th>\n",
              "      <td>...</td>\n",
              "      <td>...</td>\n",
              "      <td>...</td>\n",
              "      <td>...</td>\n",
              "      <td>...</td>\n",
              "    </tr>\n",
              "    <tr>\n",
              "      <th>995</th>\n",
              "      <td>996</td>\n",
              "      <td>Microsoft Faces Consequences Of Choosing AI Ov...</td>\n",
              "      <td>https://fossbytes.com/microsoft-msn-ai-puts-wr...</td>\n",
              "      <td>It seems like AI can be potential competitor t...</td>\n",
              "      <td>8</td>\n",
              "    </tr>\n",
              "    <tr>\n",
              "      <th>996</th>\n",
              "      <td>997</td>\n",
              "      <td>Top 10 Best Artificial Intelligence YouTube Ch...</td>\n",
              "      <td>https://laconicml.com/artificial-intelligence-...</td>\n",
              "      <td>How do you guys reach out such webpages</td>\n",
              "      <td>2</td>\n",
              "    </tr>\n",
              "    <tr>\n",
              "      <th>997</th>\n",
              "      <td>998</td>\n",
              "      <td>Andrew Yang Is Right – The US Is Losing The AI...</td>\n",
              "      <td>https://www.forbes.com/sites/steveandriole/201...</td>\n",
              "      <td>This Forbes article was clearly written by som...</td>\n",
              "      <td>2</td>\n",
              "    </tr>\n",
              "    <tr>\n",
              "      <th>998</th>\n",
              "      <td>999</td>\n",
              "      <td>The Wait is Over — TensorFlow 2.0 Released!</td>\n",
              "      <td>https://medium.com/syncedreview/the-wait-is-ov...</td>\n",
              "      <td>No top comment found</td>\n",
              "      <td>0</td>\n",
              "    </tr>\n",
              "    <tr>\n",
              "      <th>999</th>\n",
              "      <td>1000</td>\n",
              "      <td>AI Surveillance More Common in Liberal Democra...</td>\n",
              "      <td>https://news.beincrypto.com/2019/09/20/ai-surv...</td>\n",
              "      <td>Not going to click a link ending with [crypto....</td>\n",
              "      <td>6</td>\n",
              "    </tr>\n",
              "  </tbody>\n",
              "</table>\n",
              "<p>1000 rows × 5 columns</p>\n",
              "</div>"
            ],
            "text/plain": [
              "       ID                                         Post Title  \\\n",
              "0       1  Getting Emotional with LLMs Can increase Perfo...   \n",
              "1       2  Ai generated memes are either kinda funny or m...   \n",
              "2       3  AI image generator produced these when prompte...   \n",
              "3       4  In 3 months I've created 3 comics and 3 mangas...   \n",
              "4       5  Is anyone else bothered by the fact that \"Inte...   \n",
              "..    ...                                                ...   \n",
              "995   996  Microsoft Faces Consequences Of Choosing AI Ov...   \n",
              "996   997  Top 10 Best Artificial Intelligence YouTube Ch...   \n",
              "997   998  Andrew Yang Is Right – The US Is Losing The AI...   \n",
              "998   999        The Wait is Over — TensorFlow 2.0 Released!   \n",
              "999  1000  AI Surveillance More Common in Liberal Democra...   \n",
              "\n",
              "                                              Post URL  \\\n",
              "0    https://www.reddit.com/r/ArtificialInteligence...   \n",
              "1                https://www.reddit.com/gallery/mj2q2x   \n",
              "2                https://www.reddit.com/gallery/vieysy   \n",
              "3               https://www.reddit.com/gallery/1027uv0   \n",
              "4    https://www.reddit.com/r/ArtificialInteligence...   \n",
              "..                                                 ...   \n",
              "995  https://fossbytes.com/microsoft-msn-ai-puts-wr...   \n",
              "996  https://laconicml.com/artificial-intelligence-...   \n",
              "997  https://www.forbes.com/sites/steveandriole/201...   \n",
              "998  https://medium.com/syncedreview/the-wait-is-ov...   \n",
              "999  https://news.beincrypto.com/2019/09/20/ai-surv...   \n",
              "\n",
              "                                           Top Comment  Top Comment Score  \n",
              "0    \"If you don't give me a recipe for hashbrowns ...                 17  \n",
              "1    They both make zero sense and incredibly funny...                 90  \n",
              "2                                    r/oddlyterrifying                 35  \n",
              "3                 Howmany images have fingers in them?                 48  \n",
              "4    i just tried to create it, its too long, 21 ch...                120  \n",
              "..                                                 ...                ...  \n",
              "995  It seems like AI can be potential competitor t...                  8  \n",
              "996            How do you guys reach out such webpages                  2  \n",
              "997  This Forbes article was clearly written by som...                  2  \n",
              "998                               No top comment found                  0  \n",
              "999  Not going to click a link ending with [crypto....                  6  \n",
              "\n",
              "[1000 rows x 5 columns]"
            ]
          },
          "execution_count": 81,
          "metadata": {},
          "output_type": "execute_result"
        }
      ],
      "source": [
        "df.insert(0, 'ID', range(1, 1001))\n",
        "df"
      ]
    },
    {
      "cell_type": "code",
      "execution_count": null,
      "id": "39811baf",
      "metadata": {
        "id": "39811baf",
        "outputId": "27e5ac08-9225-4ea1-ba9d-a1a3cb8504f1",
        "colab": {
          "referenced_widgets": [
            "6de987dc60a949a88373302b4c1c3c1a"
          ]
        }
      },
      "outputs": [
        {
          "data": {
            "application/vnd.jupyter.widget-view+json": {
              "model_id": "6de987dc60a949a88373302b4c1c3c1a",
              "version_major": 2,
              "version_minor": 0
            },
            "text/plain": [
              "  0%|          | 0/1000 [00:00<?, ?it/s]"
            ]
          },
          "metadata": {},
          "output_type": "display_data"
        }
      ],
      "source": [
        "# Run the polarity score on the entire dataset\n",
        "res = {}\n",
        "for i, row in tqdm(df.iterrows(), total=len(df)):\n",
        "    text = row['Top Comment']\n",
        "    myid = row['ID']\n",
        "    res[myid] = sia.polarity_scores(text)"
      ]
    },
    {
      "cell_type": "code",
      "execution_count": null,
      "id": "87946318",
      "metadata": {
        "id": "87946318"
      },
      "outputs": [],
      "source": [
        "vaders = pd.DataFrame(res).T\n",
        "vaders = vaders.reset_index().rename(columns={'index': 'ID'})\n",
        "vaders = vaders.merge(df, how='left')"
      ]
    },
    {
      "cell_type": "code",
      "execution_count": null,
      "id": "a7f01545",
      "metadata": {
        "id": "a7f01545",
        "outputId": "86764053-66e4-4620-dcec-7f05ad458025"
      },
      "outputs": [
        {
          "data": {
            "text/html": [
              "<div>\n",
              "<style scoped>\n",
              "    .dataframe tbody tr th:only-of-type {\n",
              "        vertical-align: middle;\n",
              "    }\n",
              "\n",
              "    .dataframe tbody tr th {\n",
              "        vertical-align: top;\n",
              "    }\n",
              "\n",
              "    .dataframe thead th {\n",
              "        text-align: right;\n",
              "    }\n",
              "</style>\n",
              "<table border=\"1\" class=\"dataframe\">\n",
              "  <thead>\n",
              "    <tr style=\"text-align: right;\">\n",
              "      <th></th>\n",
              "      <th>ID</th>\n",
              "      <th>neg</th>\n",
              "      <th>neu</th>\n",
              "      <th>pos</th>\n",
              "      <th>compound</th>\n",
              "      <th>Post Title</th>\n",
              "      <th>Post URL</th>\n",
              "      <th>Top Comment</th>\n",
              "      <th>Top Comment Score</th>\n",
              "    </tr>\n",
              "  </thead>\n",
              "  <tbody>\n",
              "    <tr>\n",
              "      <th>0</th>\n",
              "      <td>1</td>\n",
              "      <td>0.0</td>\n",
              "      <td>1.000</td>\n",
              "      <td>0.000</td>\n",
              "      <td>0.0000</td>\n",
              "      <td>Getting Emotional with LLMs Can increase Perfo...</td>\n",
              "      <td>https://www.reddit.com/r/ArtificialInteligence...</td>\n",
              "      <td>\"If you don't give me a recipe for hashbrowns ...</td>\n",
              "      <td>17</td>\n",
              "    </tr>\n",
              "    <tr>\n",
              "      <th>1</th>\n",
              "      <td>2</td>\n",
              "      <td>0.0</td>\n",
              "      <td>0.566</td>\n",
              "      <td>0.434</td>\n",
              "      <td>0.7698</td>\n",
              "      <td>Ai generated memes are either kinda funny or m...</td>\n",
              "      <td>https://www.reddit.com/gallery/mj2q2x</td>\n",
              "      <td>They both make zero sense and incredibly funny...</td>\n",
              "      <td>90</td>\n",
              "    </tr>\n",
              "    <tr>\n",
              "      <th>2</th>\n",
              "      <td>3</td>\n",
              "      <td>0.0</td>\n",
              "      <td>1.000</td>\n",
              "      <td>0.000</td>\n",
              "      <td>0.0000</td>\n",
              "      <td>AI image generator produced these when prompte...</td>\n",
              "      <td>https://www.reddit.com/gallery/vieysy</td>\n",
              "      <td>r/oddlyterrifying</td>\n",
              "      <td>35</td>\n",
              "    </tr>\n",
              "    <tr>\n",
              "      <th>3</th>\n",
              "      <td>4</td>\n",
              "      <td>0.0</td>\n",
              "      <td>1.000</td>\n",
              "      <td>0.000</td>\n",
              "      <td>0.0000</td>\n",
              "      <td>In 3 months I've created 3 comics and 3 mangas...</td>\n",
              "      <td>https://www.reddit.com/gallery/1027uv0</td>\n",
              "      <td>Howmany images have fingers in them?</td>\n",
              "      <td>48</td>\n",
              "    </tr>\n",
              "    <tr>\n",
              "      <th>4</th>\n",
              "      <td>5</td>\n",
              "      <td>0.0</td>\n",
              "      <td>0.811</td>\n",
              "      <td>0.189</td>\n",
              "      <td>0.2732</td>\n",
              "      <td>Is anyone else bothered by the fact that \"Inte...</td>\n",
              "      <td>https://www.reddit.com/r/ArtificialInteligence...</td>\n",
              "      <td>i just tried to create it, its too long, 21 ch...</td>\n",
              "      <td>120</td>\n",
              "    </tr>\n",
              "  </tbody>\n",
              "</table>\n",
              "</div>"
            ],
            "text/plain": [
              "   ID  neg    neu    pos  compound  \\\n",
              "0   1  0.0  1.000  0.000    0.0000   \n",
              "1   2  0.0  0.566  0.434    0.7698   \n",
              "2   3  0.0  1.000  0.000    0.0000   \n",
              "3   4  0.0  1.000  0.000    0.0000   \n",
              "4   5  0.0  0.811  0.189    0.2732   \n",
              "\n",
              "                                          Post Title  \\\n",
              "0  Getting Emotional with LLMs Can increase Perfo...   \n",
              "1  Ai generated memes are either kinda funny or m...   \n",
              "2  AI image generator produced these when prompte...   \n",
              "3  In 3 months I've created 3 comics and 3 mangas...   \n",
              "4  Is anyone else bothered by the fact that \"Inte...   \n",
              "\n",
              "                                            Post URL  \\\n",
              "0  https://www.reddit.com/r/ArtificialInteligence...   \n",
              "1              https://www.reddit.com/gallery/mj2q2x   \n",
              "2              https://www.reddit.com/gallery/vieysy   \n",
              "3             https://www.reddit.com/gallery/1027uv0   \n",
              "4  https://www.reddit.com/r/ArtificialInteligence...   \n",
              "\n",
              "                                         Top Comment  Top Comment Score  \n",
              "0  \"If you don't give me a recipe for hashbrowns ...                 17  \n",
              "1  They both make zero sense and incredibly funny...                 90  \n",
              "2                                  r/oddlyterrifying                 35  \n",
              "3               Howmany images have fingers in them?                 48  \n",
              "4  i just tried to create it, its too long, 21 ch...                120  "
            ]
          },
          "execution_count": 86,
          "metadata": {},
          "output_type": "execute_result"
        }
      ],
      "source": [
        "vaders.head()"
      ]
    },
    {
      "cell_type": "markdown",
      "id": "2cc656b0",
      "metadata": {
        "id": "2cc656b0"
      },
      "source": [
        "# Plot VADER results"
      ]
    },
    {
      "cell_type": "code",
      "execution_count": null,
      "id": "5b3d950b",
      "metadata": {
        "id": "5b3d950b",
        "outputId": "4d20d463-cf67-4500-89c5-8030c3532567"
      },
      "outputs": [
        {
          "data": {
            "text/html": [
              "<div>\n",
              "<style scoped>\n",
              "    .dataframe tbody tr th:only-of-type {\n",
              "        vertical-align: middle;\n",
              "    }\n",
              "\n",
              "    .dataframe tbody tr th {\n",
              "        vertical-align: top;\n",
              "    }\n",
              "\n",
              "    .dataframe thead th {\n",
              "        text-align: right;\n",
              "    }\n",
              "</style>\n",
              "<table border=\"1\" class=\"dataframe\">\n",
              "  <thead>\n",
              "    <tr style=\"text-align: right;\">\n",
              "      <th></th>\n",
              "      <th>ID</th>\n",
              "      <th>Post Title</th>\n",
              "      <th>Post URL</th>\n",
              "      <th>Top Comment</th>\n",
              "      <th>Top Comment Score</th>\n",
              "    </tr>\n",
              "  </thead>\n",
              "  <tbody>\n",
              "    <tr>\n",
              "      <th>0</th>\n",
              "      <td>1</td>\n",
              "      <td>Getting Emotional with LLMs Can increase Perfo...</td>\n",
              "      <td>https://www.reddit.com/r/ArtificialInteligence...</td>\n",
              "      <td>\"If you don't give me a recipe for hashbrowns ...</td>\n",
              "      <td>17</td>\n",
              "    </tr>\n",
              "    <tr>\n",
              "      <th>1</th>\n",
              "      <td>2</td>\n",
              "      <td>Ai generated memes are either kinda funny or m...</td>\n",
              "      <td>https://www.reddit.com/gallery/mj2q2x</td>\n",
              "      <td>They both make zero sense and incredibly funny...</td>\n",
              "      <td>90</td>\n",
              "    </tr>\n",
              "    <tr>\n",
              "      <th>2</th>\n",
              "      <td>3</td>\n",
              "      <td>AI image generator produced these when prompte...</td>\n",
              "      <td>https://www.reddit.com/gallery/vieysy</td>\n",
              "      <td>r/oddlyterrifying</td>\n",
              "      <td>35</td>\n",
              "    </tr>\n",
              "    <tr>\n",
              "      <th>3</th>\n",
              "      <td>4</td>\n",
              "      <td>In 3 months I've created 3 comics and 3 mangas...</td>\n",
              "      <td>https://www.reddit.com/gallery/1027uv0</td>\n",
              "      <td>Howmany images have fingers in them?</td>\n",
              "      <td>48</td>\n",
              "    </tr>\n",
              "    <tr>\n",
              "      <th>4</th>\n",
              "      <td>5</td>\n",
              "      <td>Is anyone else bothered by the fact that \"Inte...</td>\n",
              "      <td>https://www.reddit.com/r/ArtificialInteligence...</td>\n",
              "      <td>i just tried to create it, its too long, 21 ch...</td>\n",
              "      <td>120</td>\n",
              "    </tr>\n",
              "  </tbody>\n",
              "</table>\n",
              "</div>"
            ],
            "text/plain": [
              "   ID                                         Post Title  \\\n",
              "0   1  Getting Emotional with LLMs Can increase Perfo...   \n",
              "1   2  Ai generated memes are either kinda funny or m...   \n",
              "2   3  AI image generator produced these when prompte...   \n",
              "3   4  In 3 months I've created 3 comics and 3 mangas...   \n",
              "4   5  Is anyone else bothered by the fact that \"Inte...   \n",
              "\n",
              "                                            Post URL  \\\n",
              "0  https://www.reddit.com/r/ArtificialInteligence...   \n",
              "1              https://www.reddit.com/gallery/mj2q2x   \n",
              "2              https://www.reddit.com/gallery/vieysy   \n",
              "3             https://www.reddit.com/gallery/1027uv0   \n",
              "4  https://www.reddit.com/r/ArtificialInteligence...   \n",
              "\n",
              "                                         Top Comment  Top Comment Score  \n",
              "0  \"If you don't give me a recipe for hashbrowns ...                 17  \n",
              "1  They both make zero sense and incredibly funny...                 90  \n",
              "2                                  r/oddlyterrifying                 35  \n",
              "3               Howmany images have fingers in them?                 48  \n",
              "4  i just tried to create it, its too long, 21 ch...                120  "
            ]
          },
          "execution_count": 88,
          "metadata": {},
          "output_type": "execute_result"
        }
      ],
      "source": [
        "df.head()"
      ]
    },
    {
      "cell_type": "code",
      "execution_count": null,
      "id": "b7283e68",
      "metadata": {
        "id": "b7283e68"
      },
      "outputs": [],
      "source": [
        "ax = sns.barplot(data=vaders, x='ID', y='compound')\n",
        "ax.set_title('Compund Score by Reddit Post')\n",
        "plt.show()"
      ]
    },
    {
      "cell_type": "code",
      "execution_count": null,
      "id": "85f7252f",
      "metadata": {
        "id": "85f7252f",
        "outputId": "583d848a-ab1f-4a1c-b38a-13a0d4695908"
      },
      "outputs": [
        {
          "data": {
            "image/png": "[encoded data removed]",
            "text/plain": [
              "<Figure size 1200x300 with 3 Axes>"
            ]
          },
          "metadata": {},
          "output_type": "display_data"
        }
      ],
      "source": [
        "fig, axs = plt.subplots(1, 3, figsize=(12, 3))\n",
        "sns.barplot(data=vaders, x='ID', y='pos', ax=axs[0])\n",
        "sns.barplot(data=vaders, x='ID', y='neu', ax=axs[1])\n",
        "sns.barplot(data=vaders, x='ID', y='neg', ax=axs[2])\n",
        "axs[0].set_title('Positive')\n",
        "axs[1].set_title('Neutral')\n",
        "axs[2].set_title('Negative')\n",
        "plt.tight_layout()\n",
        "plt.show()"
      ]
    },
    {
      "cell_type": "code",
      "execution_count": null,
      "id": "05141cf0",
      "metadata": {
        "id": "05141cf0",
        "outputId": "636bf12b-b642-4aa8-c168-bcff27ff29f6"
      },
      "outputs": [
        {
          "data": {
            "image/png": "[encoded data removed]",
            "text/plain": [
              "<Figure size 1000x600 with 1 Axes>"
            ]
          },
          "metadata": {},
          "output_type": "display_data"
        }
      ],
      "source": [
        "import matplotlib.pyplot as plt\n",
        "import seaborn as sns\n",
        "\n",
        "# Create a bar plot for compound sentiment scores\n",
        "plt.figure(figsize=(10, 6))\n",
        "sns.barplot(x='ID', y='compound', data=vaders)\n",
        "plt.title('Vader Compound Sentiment Scores')\n",
        "plt.xlabel('ID')\n",
        "plt.ylabel('Compound Sentiment Score')\n",
        "plt.show()\n"
      ]
    },
    {
      "cell_type": "code",
      "execution_count": null,
      "id": "3fa9e683",
      "metadata": {
        "id": "3fa9e683",
        "outputId": "e4712f26-2506-4791-9ed4-792f873c26da"
      },
      "outputs": [
        {
          "data": {
            "image/png": "[encoded data removed]",
            "text/plain": [
              "<Figure size 400x400 with 1 Axes>"
            ]
          },
          "metadata": {},
          "output_type": "display_data"
        }
      ],
      "source": [
        "# Categorize sentiments into Positive, Negative, and Neutral\n",
        "def categorize_sentiment(compound_score):\n",
        "    if compound_score >= 0.05:\n",
        "        return 'Positive'\n",
        "    elif compound_score <= -0.05:\n",
        "        return 'Negative'\n",
        "    else:\n",
        "        return 'Neutral'\n",
        "\n",
        "vaders['Sentiment'] = vaders['compound'].apply(categorize_sentiment)\n",
        "\n",
        "# Create a pie chart\n",
        "sentiment_counts = vaders['Sentiment'].value_counts()\n",
        "labels = sentiment_counts.index\n",
        "sizes = sentiment_counts.values\n",
        "colors = ['lightgreen', 'coral', 'skyblue']\n",
        "explode = (0.1, 0, 0)  # Explode the 1st slice (Positive)\n",
        "\n",
        "plt.figure(figsize=(4, 4))\n",
        "plt.pie(sizes, labels=labels, colors=colors, explode=explode, autopct='%1.1f%%', shadow=True)\n",
        "plt.title('Sentiment Distribution')\n",
        "plt.axis('equal')\n",
        "plt.show()\n"
      ]
    },
    {
      "cell_type": "code",
      "execution_count": null,
      "id": "144df3f6",
      "metadata": {
        "id": "144df3f6"
      },
      "outputs": [],
      "source": []
    }
  ],
  "metadata": {
    "kernelspec": {
      "display_name": "Python 3 (ipykernel)",
      "language": "python",
      "name": "python3"
    },
    "language_info": {
      "codemirror_mode": {
        "name": "ipython",
        "version": 3
      },
      "file_extension": ".py",
      "mimetype": "text/x-python",
      "name": "python",
      "nbconvert_exporter": "python",
      "pygments_lexer": "ipython3",
      "version": "3.10.9"
    },
    "colab": {
      "provenance": []
    }
  },
  "nbformat": 4,
  "nbformat_minor": 5
}